{
 "metadata": {
  "name": "",
  "signature": "sha256:9bc3f80a5aa15b30e948abdacf3465c64f683a12a22919cdc851c6962df59802"
 },
 "nbformat": 3,
 "nbformat_minor": 0,
 "worksheets": [
  {
   "cells": [
    {
     "cell_type": "code",
     "collapsed": false,
     "input": [
      "import pandas as pd\n",
      "import numpy as np"
     ],
     "language": "python",
     "metadata": {},
     "outputs": [],
     "prompt_number": 1
    },
    {
     "cell_type": "code",
     "collapsed": false,
     "input": [
      "data=pd.read_csv('../Titanic/train.csv')"
     ],
     "language": "python",
     "metadata": {},
     "outputs": [],
     "prompt_number": 2
    },
    {
     "cell_type": "code",
     "collapsed": false,
     "input": [
      "targets=data.Survived\n",
      "train=data.drop('Survived', inplace=False, axis=1)"
     ],
     "language": "python",
     "metadata": {},
     "outputs": [],
     "prompt_number": 3
    },
    {
     "cell_type": "code",
     "collapsed": false,
     "input": [
      "test=pd.read_csv('../Titanic/test.csv')"
     ],
     "language": "python",
     "metadata": {},
     "outputs": [],
     "prompt_number": 4
    },
    {
     "cell_type": "code",
     "collapsed": false,
     "input": [
      "combined=train.append(test)\n",
      "combined.reset_index(inplace=True)\n",
      "combined.drop('index', inplace=True, axis=1)"
     ],
     "language": "python",
     "metadata": {},
     "outputs": [],
     "prompt_number": 5
    },
    {
     "cell_type": "code",
     "collapsed": false,
     "input": [
      "combined.head(891).Fare.fillna(combined.head(891).Fare.mean(), inplace=True)\n",
      "combined.iloc[891:].Fare.fillna(combined.iloc[891:].Fare.mean(), inplace=True)"
     ],
     "language": "python",
     "metadata": {},
     "outputs": [
      {
       "output_type": "stream",
       "stream": "stderr",
       "text": [
        "/usr/lib/python2.7/dist-packages/pandas/core/generic.py:2862: SettingWithCopyWarning: \n",
        "A value is trying to be set on a copy of a slice from a DataFrame\n",
        "\n",
        "See the caveats in the documentation: http://pandas.pydata.org/pandas-docs/stable/indexing.html#indexing-view-versus-copy\n",
        "  self._update_inplace(new_data)\n"
       ]
      }
     ],
     "prompt_number": 6
    },
    {
     "cell_type": "code",
     "collapsed": false,
     "input": [
      "combined.head(891).Embarked.fillna('S', inplace=True)\n",
      "combined.iloc[891:].Embarked.fillna('S', inplace=True)"
     ],
     "language": "python",
     "metadata": {},
     "outputs": [],
     "prompt_number": 7
    },
    {
     "cell_type": "code",
     "collapsed": false,
     "input": [
      "embarked_dummies = pd.get_dummies(combined['Embarked'],prefix='Embarked')\n",
      "combined = pd.concat([combined,embarked_dummies],axis=1)\n",
      "combined.drop('Embarked',axis=1,inplace=True)"
     ],
     "language": "python",
     "metadata": {},
     "outputs": [],
     "prompt_number": 8
    },
    {
     "cell_type": "code",
     "collapsed": false,
     "input": [
      "Title_Dictionary = {\n",
      "                        \"Capt\":       \"Officer\",\n",
      "                        \"Col\":        \"Officer\",\n",
      "                        \"Major\":      \"Officer\",\n",
      "                        \"Jonkheer\":   \"Royalty\",\n",
      "                        \"Don\":        \"Royalty\",\n",
      "                        \"Sir\" :       \"Royalty\",\n",
      "                        \"Dr\":         \"Officer\",\n",
      "                        \"Rev\":        \"Officer\",\n",
      "                        \"the Countess\":\"Royalty\",\n",
      "                        \"Dona\":       \"Royalty\",\n",
      "                        \"Mme\":        \"Mrs\",\n",
      "                        \"Mlle\":       \"Miss\",\n",
      "                        \"Ms\":         \"Mrs\",\n",
      "                        \"Mr\" :        \"Mr\",\n",
      "                        \"Mrs\" :       \"Mrs\",\n",
      "                        \"Miss\" :      \"Miss\",\n",
      "                        \"Master\" :    \"Master\",\n",
      "                        \"Lady\" :      \"Royalty\"\n",
      "\n",
      "                        }"
     ],
     "language": "python",
     "metadata": {},
     "outputs": [],
     "prompt_number": 9
    },
    {
     "cell_type": "code",
     "collapsed": false,
     "input": [
      "combined['Title']=combined['Name'].map(lambda n: n.split(',')[1].split('.')[0].strip())\n",
      "combined['Title']=combined.Title.map(Title_Dictionary)"
     ],
     "language": "python",
     "metadata": {},
     "outputs": [],
     "prompt_number": 10
    },
    {
     "cell_type": "code",
     "collapsed": false,
     "input": [
      "grouped_train = combined.head(891).groupby(['Sex','Pclass','Title'])\n",
      "grouped_median_train = grouped_train.median()\n",
      "\n",
      "grouped_test = combined.iloc[891:].groupby(['Sex','Pclass','Title'])\n",
      "grouped_median_test = grouped_test.median()"
     ],
     "language": "python",
     "metadata": {},
     "outputs": [],
     "prompt_number": 11
    },
    {
     "cell_type": "code",
     "collapsed": false,
     "input": [
      "def process_age():\n",
      "    \n",
      "    global combined\n",
      "    \n",
      "    # a function that fills the missing values of the Age variable\n",
      "    \n",
      "    def fillAges(row, grouped_median):\n",
      "        if row['Sex']=='female' and row['Pclass'] == 1:\n",
      "            if row['Title'] == 'Miss':\n",
      "                return grouped_median.loc['female', 1, 'Miss']['Age']\n",
      "            elif row['Title'] == 'Mrs':\n",
      "                return grouped_median.loc['female', 1, 'Mrs']['Age']\n",
      "            elif row['Title'] == 'Officer':\n",
      "                return grouped_median.loc['female', 1, 'Officer']['Age']\n",
      "            elif row['Title'] == 'Royalty':\n",
      "                return grouped_median.loc['female', 1, 'Royalty']['Age']\n",
      "\n",
      "        elif row['Sex']=='female' and row['Pclass'] == 2:\n",
      "            if row['Title'] == 'Miss':\n",
      "                return grouped_median.loc['female', 2, 'Miss']['Age']\n",
      "            elif row['Title'] == 'Mrs':\n",
      "                return grouped_median.loc['female', 2, 'Mrs']['Age']\n",
      "\n",
      "        elif row['Sex']=='female' and row['Pclass'] == 3:\n",
      "            if row['Title'] == 'Miss':\n",
      "                return grouped_median.loc['female', 3, 'Miss']['Age']\n",
      "            elif row['Title'] == 'Mrs':\n",
      "                return grouped_median.loc['female', 3, 'Mrs']['Age']\n",
      "\n",
      "        elif row['Sex']=='male' and row['Pclass'] == 1:\n",
      "            if row['Title'] == 'Master':\n",
      "                return grouped_median.loc['male', 1, 'Master']['Age']\n",
      "            elif row['Title'] == 'Mr':\n",
      "                return grouped_median.loc['male', 1, 'Mr']['Age']\n",
      "            elif row['Title'] == 'Officer':\n",
      "                return grouped_median.loc['male', 1, 'Officer']['Age']\n",
      "            elif row['Title'] == 'Royalty':\n",
      "                return grouped_median.loc['male', 1, 'Royalty']['Age']\n",
      "\n",
      "        elif row['Sex']=='male' and row['Pclass'] == 2:\n",
      "            if row['Title'] == 'Master':\n",
      "                return grouped_median.loc['male', 2, 'Master']['Age']\n",
      "            elif row['Title'] == 'Mr':\n",
      "                return grouped_median.loc['male', 2, 'Mr']['Age']\n",
      "            elif row['Title'] == 'Officer':\n",
      "                return grouped_median.loc['male', 2, 'Officer']['Age']\n",
      "\n",
      "        elif row['Sex']=='male' and row['Pclass'] == 3:\n",
      "            if row['Title'] == 'Master':\n",
      "                return grouped_median.loc['male', 3, 'Master']['Age']\n",
      "            elif row['Title'] == 'Mr':\n",
      "                return grouped_median.loc['male', 3, 'Mr']['Age']\n",
      "    \n",
      "    combined.head(891).Age = combined.head(891).apply(lambda r : fillAges(r, grouped_median_train) if np.isnan(r['Age']) \n",
      "                                                      else r['Age'], axis=1)\n",
      "    \n",
      "    combined.iloc[891:].Age = combined.iloc[891:].apply(lambda r : fillAges(r, grouped_median_test) if np.isnan(r['Age']) \n",
      "                                                      else r['Age'], axis=1)"
     ],
     "language": "python",
     "metadata": {},
     "outputs": [],
     "prompt_number": 12
    },
    {
     "cell_type": "code",
     "collapsed": false,
     "input": [
      "process_age()"
     ],
     "language": "python",
     "metadata": {},
     "outputs": [
      {
       "output_type": "stream",
       "stream": "stderr",
       "text": [
        "/usr/lib/python2.7/dist-packages/pandas/core/generic.py:2387: SettingWithCopyWarning: \n",
        "A value is trying to be set on a copy of a slice from a DataFrame.\n",
        "Try using .loc[row_indexer,col_indexer] = value instead\n",
        "\n",
        "See the caveats in the documentation: http://pandas.pydata.org/pandas-docs/stable/indexing.html#indexing-view-versus-copy\n",
        "  self[name] = value\n"
       ]
      }
     ],
     "prompt_number": 13
    },
    {
     "cell_type": "code",
     "collapsed": false,
     "input": [
      "combined['Sex']=combined['Sex'].map({'male':1 , 'female':0})"
     ],
     "language": "python",
     "metadata": {},
     "outputs": [],
     "prompt_number": 14
    },
    {
     "cell_type": "code",
     "collapsed": false,
     "input": [
      "combined.drop(['Name'], axis=1, inplace=True)"
     ],
     "language": "python",
     "metadata": {},
     "outputs": [],
     "prompt_number": 15
    },
    {
     "cell_type": "code",
     "collapsed": false,
     "input": [
      "title_dummies=pd.get_dummies(combined['Title'], prefix='title')\n",
      "combined=pd.concat([combined, title_dummies], axis=1)\n",
      "combined.drop(['Title'], inplace=True, axis=1)"
     ],
     "language": "python",
     "metadata": {},
     "outputs": [],
     "prompt_number": 16
    },
    {
     "cell_type": "code",
     "collapsed": false,
     "input": [
      "pclass_dummies=pd.get_dummies(combined['Pclass'], prefix=\"Pclass\")\n",
      "combined=pd.concat([combined,pclass_dummies], axis=1)\n",
      "combined.drop(['Pclass'], axis=1, inplace=True)"
     ],
     "language": "python",
     "metadata": {},
     "outputs": [],
     "prompt_number": 17
    },
    {
     "cell_type": "code",
     "collapsed": false,
     "input": [
      "combined['FamilySize']=combined['SibSp'] + combined['Parch'] + 1\n",
      "combined['Singleton']=combined['FamilySize'].map(lambda s: 1 if s == 1 else 0)\n",
      "combined['SmallFamily']=combined['FamilySize'].map(lambda s: 1 if 2<=s<=4 else 0)\n",
      "combined['LargeFamily']=combined['FamilySize'].map(lambda s: 1 if s>=5 else 0)"
     ],
     "language": "python",
     "metadata": {},
     "outputs": [],
     "prompt_number": 18
    },
    {
     "cell_type": "code",
     "collapsed": false,
     "input": [
      "combined.Cabin.fillna('U', inplace=True)\n",
      "# U stands for unknown\n",
      "combined['Cabin']=combined['Cabin'].map(lambda c:c[0])\n",
      "\n",
      "cabin_dummies=pd.get_dummies(combined['Cabin'], prefix=\"Cabin\")\n",
      "combined=pd.concat([combined,cabin_dummies], axis=1)\n",
      "combined.drop('Cabin', axis=1, inplace=True)"
     ],
     "language": "python",
     "metadata": {},
     "outputs": [],
     "prompt_number": 19
    },
    {
     "cell_type": "code",
     "collapsed": false,
     "input": [
      "def cleanTicket(ticket):\n",
      "        ticket = ticket.replace('.','')\n",
      "        ticket = ticket.replace('/','')\n",
      "        ticket = ticket.split()\n",
      "        ticket = map(lambda t : t.strip(), ticket)\n",
      "        ticket = filter(lambda t : not t.isdigit(), ticket)\n",
      "        if len(ticket) > 0:\n",
      "            return ticket[0]\n",
      "        else: \n",
      "            return 'XXX'"
     ],
     "language": "python",
     "metadata": {},
     "outputs": [],
     "prompt_number": 20
    },
    {
     "cell_type": "code",
     "collapsed": false,
     "input": [
      "combined['Ticket'] = combined['Ticket'].map(cleanTicket)"
     ],
     "language": "python",
     "metadata": {},
     "outputs": [],
     "prompt_number": 21
    },
    {
     "cell_type": "code",
     "collapsed": false,
     "input": [
      "tickets_dummies = pd.get_dummies(combined['Ticket'], prefix='Ticket')\n",
      "combined = pd.concat([combined, tickets_dummies], axis=1)\n",
      "combined.drop('Ticket', inplace=True, axis=1)"
     ],
     "language": "python",
     "metadata": {},
     "outputs": [],
     "prompt_number": 22
    },
    {
     "cell_type": "code",
     "collapsed": false,
     "input": [
      "#combined.head(891).Age.fillna(combined.head(891).Age.median(), inplace=True)\n",
      "#combined.iloc[891:].Age.fillna(combined.iloc[891:].Age.median(), inplace=True)"
     ],
     "language": "python",
     "metadata": {},
     "outputs": [],
     "prompt_number": 23
    },
    {
     "cell_type": "code",
     "collapsed": false,
     "input": [
      "combined.drop(['PassengerId'], axis=1, inplace=True)"
     ],
     "language": "python",
     "metadata": {},
     "outputs": [],
     "prompt_number": 24
    },
    {
     "cell_type": "code",
     "collapsed": false,
     "input": [
      "from sklearn.linear_model import LogisticRegression\n",
      "from sklearn import metrics"
     ],
     "language": "python",
     "metadata": {},
     "outputs": [],
     "prompt_number": 25
    },
    {
     "cell_type": "code",
     "collapsed": false,
     "input": [
      "from sklearn.ensemble import RandomForestClassifier\n",
      "from sklearn.feature_selection import SelectFromModel"
     ],
     "language": "python",
     "metadata": {},
     "outputs": [],
     "prompt_number": 26
    },
    {
     "cell_type": "code",
     "collapsed": false,
     "input": [
      "#from sklearn.neural_network import MLPClassifier\n",
      "\n",
      "\n",
      "#clf=MLPClassifier(hidden_layer_sizes=(100,))\n",
      "#clf.fit(combined.head(891), targets)\n",
      "#pred=clf.predict(combined.iloc[891:])\n",
      "#pred"
     ],
     "language": "python",
     "metadata": {},
     "outputs": [
      {
       "ename": "ImportError",
       "evalue": "cannot import name MLPClassifier",
       "output_type": "pyerr",
       "traceback": [
        "\u001b[0;31m---------------------------------------------------------------------------\u001b[0m\n\u001b[0;31mImportError\u001b[0m                               Traceback (most recent call last)",
        "\u001b[0;32m<ipython-input-35-0ab92f29cc3e>\u001b[0m in \u001b[0;36m<module>\u001b[0;34m()\u001b[0m\n\u001b[0;32m----> 1\u001b[0;31m \u001b[0;32mfrom\u001b[0m \u001b[0msklearn\u001b[0m\u001b[0;34m.\u001b[0m\u001b[0mneural_network\u001b[0m \u001b[0;32mimport\u001b[0m \u001b[0mMLPClassifier\u001b[0m\u001b[0;34m\u001b[0m\u001b[0m\n\u001b[0m\u001b[1;32m      2\u001b[0m \u001b[0;34m\u001b[0m\u001b[0m\n\u001b[1;32m      3\u001b[0m \u001b[0;34m\u001b[0m\u001b[0m\n\u001b[1;32m      4\u001b[0m \u001b[0mclf\u001b[0m\u001b[0;34m=\u001b[0m\u001b[0mMLPClassifier\u001b[0m\u001b[0;34m(\u001b[0m\u001b[0mhidden_layer_sizes\u001b[0m\u001b[0;34m=\u001b[0m\u001b[0;34m(\u001b[0m\u001b[0;36m100\u001b[0m\u001b[0;34m,\u001b[0m\u001b[0;34m)\u001b[0m\u001b[0;34m)\u001b[0m\u001b[0;34m\u001b[0m\u001b[0m\n\u001b[1;32m      5\u001b[0m \u001b[0mclf\u001b[0m\u001b[0;34m.\u001b[0m\u001b[0mfit\u001b[0m\u001b[0;34m(\u001b[0m\u001b[0mcombined\u001b[0m\u001b[0;34m.\u001b[0m\u001b[0mhead\u001b[0m\u001b[0;34m(\u001b[0m\u001b[0;36m891\u001b[0m\u001b[0;34m)\u001b[0m\u001b[0;34m,\u001b[0m \u001b[0mtargets\u001b[0m\u001b[0;34m)\u001b[0m\u001b[0;34m\u001b[0m\u001b[0m\n",
        "\u001b[0;31mImportError\u001b[0m: cannot import name MLPClassifier"
       ]
      }
     ],
     "prompt_number": 35
    },
    {
     "cell_type": "code",
     "collapsed": false,
     "input": [
      "from sklearn import svm\n",
      "#clf=svm.SVC(kernel='rbf', C= 1000, gamma= 0.01)\n",
      "#clf.fit(combined.head(891), targets)\n",
      "#pred=clf.predict(combined.iloc[891:])\n",
      "#pred"
     ],
     "language": "python",
     "metadata": {},
     "outputs": [
      {
       "metadata": {},
       "output_type": "pyout",
       "prompt_number": 254,
       "text": [
        "array([0, 0, 0, 0, 0, 0, 0, 0, 1, 0, 0, 1, 0, 0, 0, 1, 0, 1, 0, 0, 1, 0, 1,\n",
        "       1, 1, 0, 1, 0, 1, 0, 0, 1, 1, 0, 0, 1, 1, 1, 0, 1, 0, 1, 0, 1, 1, 0,\n",
        "       1, 0, 1, 0, 1, 0, 1, 1, 0, 0, 0, 0, 0, 1, 0, 0, 0, 1, 1, 1, 1, 0, 0,\n",
        "       0, 1, 0, 0, 0, 1, 1, 0, 0, 0, 1, 1, 1, 1, 0, 0, 0, 1, 0, 1, 1, 0, 0,\n",
        "       1, 0, 1, 0, 1, 1, 1, 0, 1, 0, 0, 0, 1, 0, 0, 0, 0, 0, 0, 1, 1, 1, 1,\n",
        "       0, 0, 1, 0, 1, 1, 0, 1, 0, 0, 0, 0, 1, 1, 0, 0, 0, 0, 0, 0, 0, 0, 0,\n",
        "       0, 0, 0, 0, 0, 0, 1, 0, 0, 0, 1, 0, 1, 0, 0, 0, 0, 0, 1, 1, 1, 1, 1,\n",
        "       1, 0, 0, 0, 0, 1, 0, 1, 0, 0, 0, 0, 0, 0, 0, 1, 1, 1, 1, 0, 1, 0, 0,\n",
        "       0, 0, 1, 0, 0, 0, 0, 1, 1, 0, 0, 0, 1, 1, 0, 1, 1, 1, 1, 1, 0, 1, 0,\n",
        "       0, 1, 0, 0, 0, 0, 0, 0, 1, 1, 1, 1, 0, 1, 0, 1, 0, 1, 1, 0, 1, 0, 0,\n",
        "       1, 1, 1, 0, 1, 0, 1, 1, 1, 0, 1, 0, 1, 0, 0, 1, 1, 0, 1, 0, 0, 0, 0,\n",
        "       0, 0, 0, 0, 0, 0, 0, 0, 0, 0, 1, 0, 0, 0, 0, 0, 0, 1, 0, 0, 1, 0, 1,\n",
        "       0, 0, 0, 0, 0, 1, 1, 0, 1, 0, 0, 0, 0, 0, 0, 0, 0, 0, 0, 0, 0, 0, 0,\n",
        "       0, 0, 1, 0, 0, 1, 0, 0, 1, 1, 1, 0, 0, 0, 0, 1, 1, 1, 0, 0, 1, 0, 0,\n",
        "       0, 1, 1, 0, 0, 0, 0, 0, 0, 0, 0, 1, 0, 1, 0, 0, 1, 1, 1, 0, 0, 1, 1,\n",
        "       0, 0, 0, 0, 1, 1, 0, 0, 0, 1, 1, 1, 0, 0, 1, 0, 1, 1, 0, 1, 0, 0, 1,\n",
        "       1, 1, 0, 1, 0, 1, 1, 1, 0, 0, 0, 0, 0, 0, 1, 0, 1, 1, 0, 0, 0, 0, 1,\n",
        "       0, 0, 1, 0, 1, 0, 1, 0, 0, 1, 0, 1, 0, 0, 1, 0, 1, 1, 1, 1, 1, 0, 0,\n",
        "       1, 0, 0, 1])"
       ]
      }
     ],
     "prompt_number": 254
    },
    {
     "cell_type": "code",
     "collapsed": false,
     "input": [
      "#model=SelectFromModel(clf, prefit=True)\n",
      "#train_reduced=model.transform(train)\n",
      "#train_reduced.shape"
     ],
     "language": "python",
     "metadata": {},
     "outputs": [],
     "prompt_number": 248
    },
    {
     "cell_type": "code",
     "collapsed": false,
     "input": [
      "clf=LogisticRegression()\n",
      "clf.fit(combined.head(891), targets)\n",
      "pred=clf.predict(combined.iloc[891:])\n",
      "pred"
     ],
     "language": "python",
     "metadata": {},
     "outputs": [
      {
       "metadata": {},
       "output_type": "pyout",
       "prompt_number": 244,
       "text": [
        "array([0, 1, 0, 0, 1, 0, 1, 0, 1, 0, 0, 0, 1, 0, 1, 1, 0, 0, 0, 1, 0, 1, 1,\n",
        "       0, 1, 0, 1, 0, 0, 0, 0, 0, 1, 0, 0, 0, 1, 1, 0, 0, 0, 0, 0, 1, 1, 0,\n",
        "       0, 0, 1, 1, 0, 0, 1, 1, 0, 0, 0, 0, 0, 1, 0, 0, 0, 1, 1, 1, 1, 0, 0,\n",
        "       1, 1, 0, 1, 1, 1, 1, 0, 1, 0, 1, 1, 0, 0, 0, 0, 0, 1, 1, 1, 1, 1, 0,\n",
        "       1, 0, 0, 0, 1, 0, 1, 0, 1, 0, 0, 0, 1, 0, 0, 0, 0, 0, 0, 1, 1, 1, 1,\n",
        "       0, 0, 1, 0, 1, 1, 0, 1, 0, 0, 1, 0, 1, 0, 0, 0, 0, 0, 0, 0, 0, 0, 0,\n",
        "       1, 0, 0, 1, 0, 0, 0, 0, 1, 0, 0, 0, 1, 0, 0, 1, 0, 0, 1, 1, 0, 1, 1,\n",
        "       1, 1, 0, 0, 1, 0, 0, 1, 1, 0, 0, 0, 0, 0, 1, 1, 0, 1, 1, 0, 1, 1, 0,\n",
        "       1, 0, 1, 0, 0, 0, 0, 0, 1, 0, 1, 0, 1, 1, 0, 1, 1, 1, 1, 1, 0, 0, 1,\n",
        "       0, 1, 0, 0, 0, 0, 1, 0, 0, 1, 0, 1, 0, 1, 0, 1, 0, 1, 1, 0, 1, 0, 0,\n",
        "       0, 1, 0, 0, 0, 0, 0, 0, 1, 1, 1, 1, 1, 0, 0, 0, 1, 0, 1, 1, 1, 0, 1,\n",
        "       0, 0, 0, 0, 0, 1, 0, 0, 0, 1, 1, 0, 0, 0, 0, 1, 0, 0, 0, 1, 1, 0, 1,\n",
        "       0, 0, 0, 0, 1, 1, 1, 1, 1, 0, 0, 0, 0, 0, 0, 1, 0, 0, 0, 0, 1, 0, 0,\n",
        "       0, 0, 1, 0, 0, 1, 1, 0, 1, 0, 1, 0, 0, 0, 1, 1, 1, 0, 0, 0, 0, 0, 0,\n",
        "       0, 0, 1, 0, 1, 0, 0, 0, 1, 0, 0, 1, 0, 0, 0, 0, 0, 1, 0, 0, 0, 1, 1,\n",
        "       1, 0, 1, 0, 1, 1, 0, 0, 0, 1, 0, 1, 0, 0, 1, 0, 1, 1, 0, 1, 0, 0, 1,\n",
        "       1, 0, 0, 1, 0, 0, 1, 1, 0, 0, 0, 0, 0, 0, 1, 1, 0, 1, 0, 0, 0, 0, 1,\n",
        "       1, 1, 0, 0, 1, 0, 1, 0, 0, 1, 0, 1, 0, 0, 1, 0, 0, 1, 1, 1, 1, 1, 0,\n",
        "       1, 0, 0, 1])"
       ]
      }
     ],
     "prompt_number": 244
    },
    {
     "cell_type": "code",
     "collapsed": false,
     "input": [
      "answer=pd.DataFrame()\n",
      "test_set=pd.read_csv('../Titanic/test.csv')\n",
      "answer['PassengerId']=test_set['PassengerId']\n",
      "answer['Survived']=pred"
     ],
     "language": "python",
     "metadata": {},
     "outputs": [],
     "prompt_number": 255
    },
    {
     "cell_type": "code",
     "collapsed": false,
     "input": [
      "answer[['PassengerId','Survived']].to_csv('../Titanic/output.csv',index=False)"
     ],
     "language": "python",
     "metadata": {},
     "outputs": [],
     "prompt_number": 256
    }
   ],
   "metadata": {}
  }
 ]
}
